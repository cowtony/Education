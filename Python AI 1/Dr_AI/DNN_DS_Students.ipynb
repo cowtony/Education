{
 "cells": [
  {
   "cell_type": "code",
   "execution_count": 5,
   "metadata": {},
   "outputs": [],
   "source": [
    "# Overall Project Flow\n",
    "\n",
    "######################################\n",
    "# Problem Defination\n",
    "#######################################################\n",
    "# Introducing the problem - Deisgn an AI doctor to diagnose diabetes\n",
    "# Data Interpretation - Understand Diabetes and it cause\n",
    "###############################################################\n",
    "\n",
    "# Approach 1.1 - Overall framework\n",
    "################################################\n",
    "# Analyze & Aquire Core Data matrix\n",
    "# Take one example and interprete\n",
    "# Chose and understand Tools to solving the program\n",
    "# understand the Tool - Deep Learning framework\n",
    "###############################################\n",
    "# Approach 1.2 Deep Learning Tools Understanding\n",
    "\n",
    "# Implementation\n",
    "####################################\n",
    "#Load Data\n",
    "#Define Model\n",
    "#Compile Model\n",
    "#Fit Model\n",
    "#####################################\n",
    "\n",
    "# Evaluation\n",
    "########################################\n",
    "#Evaluate Model\n",
    "######################################\n",
    "\n",
    "# Integration\n",
    "#######################################\n",
    "#Integrate\n",
    "#Predict\n",
    "######################################\n",
    "\n",
    "# Sythesize/ Conclusion\n",
    "#######################################"
   ]
  },
  {
   "cell_type": "code",
   "execution_count": 6,
   "metadata": {},
   "outputs": [],
   "source": [
    "#1. Import lib packages\n",
    "\n",
    "# SUDO ###################\n",
    "# import xxx\n",
    "# from xxx import xxx"
   ]
  },
  {
   "cell_type": "code",
   "execution_count": 7,
   "metadata": {},
   "outputs": [],
   "source": [
    "# Your code here\n"
   ]
  },
  {
   "cell_type": "code",
   "execution_count": 8,
   "metadata": {},
   "outputs": [],
   "source": [
    "# load dataset\n",
    "## SUDO #################\n",
    "# your_data = numpy.loadtxt(\"file name\", delimiter)"
   ]
  },
  {
   "cell_type": "code",
   "execution_count": 9,
   "metadata": {},
   "outputs": [],
   "source": [
    "# load dataset\n",
    "# Your code here\n"
   ]
  },
  {
   "cell_type": "code",
   "execution_count": 10,
   "metadata": {},
   "outputs": [],
   "source": [
    "#############################\n",
    "#Data Intrepretation\n",
    "# Input Variables (X):\n",
    "\n",
    "# 1. Number of times pregnant\n",
    "# 2. Plasma glucose concentration a 2 hours in an oral glucose tolerance test\n",
    "# 3. Diastolic blood pressure (mm Hg)\n",
    "# 4. Triceps skin fold thickness (mm)\n",
    "# 5. 2-Hour serum insulin (mu U/ml)\n",
    "# 6. Body mass index (weight in kg/(height in m)^2)\n",
    "# 7. Diabetes pedigree function\n",
    "# 8. Age (years)\n",
    "\n",
    "# Output Variables (y):\n",
    "# 1. Class variable (0 or 1) - Yes or No for Diabetes\n",
    "##################################################"
   ]
  },
  {
   "cell_type": "code",
   "execution_count": 11,
   "metadata": {},
   "outputs": [],
   "source": [
    "# SUDO #####\n",
    "# split into input (X) and output (Y) variables\n",
    "# X axles: remind use numpy slice operator \":\", select 0 - 7 index\n",
    "# Y axles: select output col (9th) via index ?"
   ]
  },
  {
   "cell_type": "code",
   "execution_count": 12,
   "metadata": {},
   "outputs": [],
   "source": [
    "# split into input (X) and output (Y) variables\n",
    "# Your code here"
   ]
  },
  {
   "cell_type": "code",
   "execution_count": 13,
   "metadata": {},
   "outputs": [],
   "source": [
    "# Define the Neural Network Model\n",
    "# Model in Keras are defined as Sequence of Layers - review layer concept\n",
    "# Create Sequne->  tial model and add one layer at a time\n",
    "\n",
    "# SUDO ####\n",
    "# Define Sequential Model - fully conntect neural network - Dense Class\n",
    "# 1st Layer (Input Layer): 12 nodes, .add(Dense(number of nodes, input_dimension, init, activation))\n",
    "# Input_Dimension: Make sure the 1st layer has the right number of input features\n",
    "# Activation function: ReLU activation function - Knowledge - what is ReLU? = Rectified Linear unit activation function\n",
    "# 2nd Layer (Hidden Layer 2): 8 nodes\n",
    "# 3rd Layer (Hidden Layer 3): x nodes...\n",
    "# more layers:...\n",
    "# Last Layers (Output Layer): 1 node, Sigmoid acitvation function for output 0 - 1\n"
   ]
  },
  {
   "cell_type": "code",
   "execution_count": 14,
   "metadata": {},
   "outputs": [],
   "source": [
    "# Define the Neural Network Model\n",
    "# Your code here"
   ]
  },
  {
   "cell_type": "code",
   "execution_count": 15,
   "metadata": {},
   "outputs": [],
   "source": [
    "# Compile Model\n",
    "# Comple model use efficient numerical libs under the cover - backend, here it is tensorflow. \n",
    "# The Backend auto choose best way to reporesent network for training and making predictions to run on your hardware (CPU,GPU, distributed)\n",
    "# Training network = finding the best set of weights ot map inputs to outputs in dataset\n",
    "\n",
    "\n",
    "# Loss function specification -> evaluate set of weights: for binary classification, use binary_crossentropy, detailed to be tought in next session\n",
    "# Optimizer: search through diff weights for network and any optional metrics to collect & report during training\n",
    "# Metrics: because it is classification problem, use accuracy\n",
    "\n",
    "# SUDO #######################\n",
    "# .compile(loss, optimizer, metrics)\n",
    "# Loss function -> 'binary_crossentropy'\n",
    "# Optimizer -> stochastic gradient decent algo-> 'adam'\n",
    "# Metrics -> 'accuracy'"
   ]
  },
  {
   "cell_type": "code",
   "execution_count": 16,
   "metadata": {},
   "outputs": [],
   "source": [
    "# Compile model\n",
    "# Your code here\n"
   ]
  },
  {
   "cell_type": "code",
   "execution_count": 17,
   "metadata": {},
   "outputs": [],
   "source": [
    "# Training the data using fit()\n",
    "# Split the data to training set and testing set\n",
    "\n",
    "# 1. Epoch: One pass through all rows in training\n",
    "# 2. Batch: One or more samples ocnsidered by the model within an epoch before weights are updated\n",
    "# Here we choose 150 epochs with 10 batch_size. (epochs  = 150, batch_size = 10)\n",
    "# Model Convergence: amounts of error level out/ reducing\n",
    "\n",
    "# SUDO ##################\n",
    "# .fit(x, y, epochs, batch_size, verbose)"
   ]
  },
  {
   "cell_type": "code",
   "execution_count": 18,
   "metadata": {},
   "outputs": [],
   "source": [
    "# Fit the model\n",
    "# Your code here\n"
   ]
  },
  {
   "cell_type": "code",
   "execution_count": 19,
   "metadata": {},
   "outputs": [],
   "source": [
    "# Evaluate model - Optional\n",
    "\n",
    "# SUDO #######################\n",
    "# .evaluate(X, y)"
   ]
  },
  {
   "cell_type": "code",
   "execution_count": 20,
   "metadata": {},
   "outputs": [],
   "source": [
    "# evaluate model\n",
    "# Your code here"
   ]
  },
  {
   "cell_type": "code",
   "execution_count": 21,
   "metadata": {},
   "outputs": [],
   "source": [
    "# What next? after training model?\n",
    "# Use .predict() or for this case use .predict_classes()\n",
    "\n",
    "# SUDO ##########################\n",
    "# Option 1:\n",
    "# .predict()\n",
    "# round result\n",
    "# Print\n",
    "\n",
    "# Option 2: \n",
    "# OR .predict_classes()\n",
    "# Print result"
   ]
  },
  {
   "cell_type": "code",
   "execution_count": 22,
   "metadata": {},
   "outputs": [],
   "source": [
    "# calculate predictions - predict()\n",
    "# Your code here\n",
    "\n",
    "# Or predict_classes()\n",
    "# Your code here"
   ]
  },
  {
   "cell_type": "code",
   "execution_count": null,
   "metadata": {},
   "outputs": [],
   "source": []
  }
 ],
 "metadata": {
  "kernelspec": {
   "display_name": "Python 3",
   "language": "python",
   "name": "python3"
  },
  "language_info": {
   "codemirror_mode": {
    "name": "ipython",
    "version": 3
   },
   "file_extension": ".py",
   "mimetype": "text/x-python",
   "name": "python",
   "nbconvert_exporter": "python",
   "pygments_lexer": "ipython3",
   "version": "3.7.3"
  }
 },
 "nbformat": 4,
 "nbformat_minor": 2
}
